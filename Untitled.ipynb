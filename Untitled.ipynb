{
 "cells": [
  {
   "cell_type": "code",
   "execution_count": 15,
   "metadata": {},
   "outputs": [],
   "source": [
    "import numpy as np\n",
    "import pandas as pd\n",
    "import rpy2 as rp\n",
    "import matplotlib.pyplot as plt\n",
    "import preprocess\n",
    "import utils"
   ]
  },
  {
   "cell_type": "code",
   "execution_count": 16,
   "metadata": {},
   "outputs": [],
   "source": [
    "from rpy2.robjects.packages import importr\n",
    "from rpy2.robjects.vectors import StrVector\n",
    "from rpy2.robjects.vectors import IntVector"
   ]
  },
  {
   "cell_type": "code",
   "execution_count": 17,
   "metadata": {},
   "outputs": [],
   "source": [
    "rbase = importr('base')\n",
    "rstats = importr('stats')\n",
    "rutils = importr('utils')"
   ]
  },
  {
   "cell_type": "code",
   "execution_count": 18,
   "metadata": {},
   "outputs": [
    {
     "data": {
      "text/plain": [
       "<rpy2.rinterface_lib.sexp.NULLType object at 0x7f846eee6b40> [RTYPES.NILSXP]"
      ]
     },
     "execution_count": 18,
     "metadata": {},
     "output_type": "execute_result"
    }
   ],
   "source": [
    "rutils.chooseCRANmirror(ind=1)"
   ]
  },
  {
   "cell_type": "code",
   "execution_count": 19,
   "metadata": {},
   "outputs": [
    {
     "name": "stderr",
     "output_type": "stream",
     "text": [
      "R[write to console]: Installing packages into ‘/home/nsouda/R/x86_64-pc-linux-gnu-library/3.6’\n",
      "(as ‘lib’ is unspecified)\n",
      "\n"
     ]
    }
   ],
   "source": [
    "packages = ('ggplot2', 'MaxPro')\n",
    "\n",
    "rutils.install_packages(StrVector('packages'))\n",
    "\n",
    "ggplot2 = importr('ggplot2')\n",
    "MaxPro = importr('MaxPro')"
   ]
  },
  {
   "cell_type": "code",
   "execution_count": 20,
   "metadata": {},
   "outputs": [],
   "source": [
    "nlevels = 2251\n",
    "candidate = MaxPro.CandPoints(N = 500, p_cont = 3, l_disnum = IntVector(np.arange(2251,2252)))\n",
    "LHD = MaxPro.MaxProLHD(500,4)"
   ]
  },
  {
   "cell_type": "code",
   "execution_count": 21,
   "metadata": {},
   "outputs": [],
   "source": [
    "outCand = MaxPro.MaxPro(candidate)\n",
    "outLHD = MaxPro.MaxPro(LHD[0])"
   ]
  },
  {
   "cell_type": "code",
   "execution_count": 22,
   "metadata": {
    "scrolled": true
   },
   "outputs": [],
   "source": [
    "images = utils.DataPrep('tiff_images')\n",
    "data = images.data\n",
    "labels = images.out_ids"
   ]
  },
  {
   "cell_type": "code",
   "execution_count": 23,
   "metadata": {},
   "outputs": [],
   "source": [
    "design_points = np.array(outCand[0])\n",
    "design_points[:,0] = design_points[:,0]*45 + 5\n",
    "design_points[:,1] = design_points[:,1]*99 + 1\n",
    "design_points[:,2] = design_points[:,2]*990 + 10\n",
    "design_points[:,3] = design_points[:,3]*2250 + 250\n",
    "\n",
    "\n",
    "response = np.zeros((design_points.shape[0], 4))\n",
    "for i in range(response.shape[0]):\n",
    "    response[i] = utils.calculate_response(data, labels, design_points[i][0] , \n",
    "                                           design_points[i][1], design_points[i][2], int(design_points[i][3]))"
   ]
  },
  {
   "cell_type": "code",
   "execution_count": 24,
   "metadata": {},
   "outputs": [],
   "source": [
    "from sklearn.gaussian_process import GaussianProcessRegressor\n",
    "from sklearn.gaussian_process.kernels import RBF, Matern\n",
    "\n",
    "silhouette_fit_RBF = GaussianProcessRegressor().fit(design_points,response[:, 0])\n",
    "CH_fit_RBF = GaussianProcessRegressor().fit(design_points,response[:, 1])\n",
    "DB_fit_RBF = GaussianProcessRegressor().fit(design_points,response[:, 2])\n",
    "class_acc_fit_RBF = GaussianProcessRegressor().fit(design_points,response[:, 3])\n",
    "\n",
    "silhouette_fit_Matern = GaussianProcessRegressor(kernel = Matern(nu = 5/2)).fit(design_points,response[:, 0])\n",
    "CH_fit_Matern = GaussianProcessRegressor(kernel = Matern(nu = 5/2)).fit(design_points,response[:, 1])\n",
    "DB_fit_Matern = GaussianProcessRegressor(kernel = Matern(nu = 5/2)).fit(design_points,response[:, 2])\n",
    "class_acc_fit_Matern = GaussianProcessRegressor(kernel = Matern(nu = 5/2)).fit(design_points,response[:, 3])"
   ]
  },
  {
   "cell_type": "code",
   "execution_count": 26,
   "metadata": {},
   "outputs": [],
   "source": [
    "grid = np.array(np.meshgrid(np.linspace(5,50, num=25), np.linspace(1,100, num=25)\n",
    "                            , np.linspace(10,1000, num=25), np.linspace(250,2500, num=25).astype(int)))\n",
    "perplexity_vals = np.ravel(grid[0])\n",
    "early_exaggeration_vals = np.ravel(grid[1])\n",
    "learning_rate_vals = np.ravel(grid[2])\n",
    "n_iter_vals = np.ravel(grid[3])\n",
    "\n",
    "X = np.array([perplexity_vals,early_exaggeration_vals,learning_rate_vals,n_iter_vals]).T\n",
    "\n",
    "pred_silhouette_RBF, sigma_silhouette_RBF = silhouette_fit_RBF.predict(X, return_std=True)\n",
    "pred_CH_RBF, sigma_CH_RBF = CH_fit_RBF.predict(X, return_std=True)\n",
    "pred_DB_RBF, sigma_DB_RBF = DB_fit_RBF.predict(X, return_std=True)\n",
    "pred_class_acc_RBF, sigma_class_acc_RBF = class_acc_fit_RBF.predict(X, return_std=True)\n",
    "\n",
    "pred_silhouette_Matern, sigma_silhouette_Matern = silhouette_fit_RBF.predict(X, return_std=True)\n",
    "pred_CH_Matern, sigma_CH_Matern = CH_fit_Matern.predict(X, return_std=True)\n",
    "pred_DB_Matern, sigma_DB_Matern = DB_fit_Matern.predict(X, return_std=True)\n",
    "pred_class_acc_Matern, sigma_class_acc_Matern = class_acc_fit_Matern.predict(X, return_std=True)"
   ]
  },
  {
   "cell_type": "code",
   "execution_count": 35,
   "metadata": {},
   "outputs": [
    {
     "name": "stdout",
     "output_type": "stream",
     "text": [
      "[[  8.75  75.25 711.25 906.  ]]\n",
      "[[ 38.75   9.25  92.5  718.  ]]\n",
      "[[ 42.5   42.25 917.5  250.  ]]\n",
      "[[  8.75  75.25 711.25 906.  ]]\n",
      "[[  8.75  75.25 711.25 906.  ]]\n",
      "[[ 38.75   9.25  92.5  718.  ]]\n",
      "[[ 42.5   42.25 917.5  250.  ]]\n",
      "[[  8.75  75.25 711.25 906.  ]]\n"
     ]
    }
   ],
   "source": [
    "preds = (pred_silhouette_RBF,pred_CH_RBF,pred_DB_RBF,pred_class_acc_RBF\n",
    "         ,pred_silhouette_Matern,pred_CH_Matern,pred_DB_Matern,pred_class_acc_Matern)\n",
    "for pred in preds:\n",
    "    print(X[pred == max(pred)])"
   ]
  },
  {
   "cell_type": "code",
   "execution_count": 30,
   "metadata": {},
   "outputs": [
    {
     "data": {
      "text/plain": [
       "0.0832053247437139"
      ]
     },
     "execution_count": 30,
     "metadata": {},
     "output_type": "execute_result"
    }
   ],
   "source": [
    "max(pred_class_acc_Matern),"
   ]
  },
  {
   "cell_type": "code",
   "execution_count": null,
   "metadata": {},
   "outputs": [],
   "source": []
  }
 ],
 "metadata": {
  "kernelspec": {
   "display_name": "Python 3",
   "language": "python",
   "name": "python3"
  },
  "language_info": {
   "codemirror_mode": {
    "name": "ipython",
    "version": 3
   },
   "file_extension": ".py",
   "mimetype": "text/x-python",
   "name": "python",
   "nbconvert_exporter": "python",
   "pygments_lexer": "ipython3",
   "version": "3.8.5"
  }
 },
 "nbformat": 4,
 "nbformat_minor": 4
}
